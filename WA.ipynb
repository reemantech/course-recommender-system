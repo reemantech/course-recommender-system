{
 "cells": [
  {
   "cell_type": "code",
   "execution_count": 17,
   "id": "4c8e1a49",
   "metadata": {},
   "outputs": [
    {
     "name": "stdout",
     "output_type": "stream",
     "text": [
      "Defaulting to user installation because normal site-packages is not writeableNote: you may need to restart the kernel to use updated packages.\n",
      "\n",
      "Requirement already satisfied: streamlit in c:\\users\\hp\\appdata\\roaming\\python\\python39\\site-packages (1.27.2)\n",
      "Requirement already satisfied: click<9,>=7.0 in c:\\programdata\\anaconda3\\lib\\site-packages (from streamlit) (8.0.4)\n",
      "Requirement already satisfied: typing-extensions<5,>=4.3.0 in c:\\programdata\\anaconda3\\lib\\site-packages (from streamlit) (4.3.0)\n",
      "Requirement already satisfied: tornado<7,>=6.0.3 in c:\\programdata\\anaconda3\\lib\\site-packages (from streamlit) (6.1)\n",
      "Requirement already satisfied: tzlocal<6,>=1.1 in c:\\users\\hp\\appdata\\roaming\\python\\python39\\site-packages (from streamlit) (5.1)\n",
      "Requirement already satisfied: watchdog>=2.1.5 in c:\\programdata\\anaconda3\\lib\\site-packages (from streamlit) (2.1.6)\n",
      "Requirement already satisfied: toml<2,>=0.10.1 in c:\\programdata\\anaconda3\\lib\\site-packages (from streamlit) (0.10.2)\n",
      "Requirement already satisfied: gitpython!=3.1.19,<4,>=3.0.7 in c:\\users\\hp\\appdata\\roaming\\python\\python39\\site-packages (from streamlit) (3.1.40)\n",
      "Requirement already satisfied: cachetools<6,>=4.0 in c:\\users\\hp\\appdata\\roaming\\python\\python39\\site-packages (from streamlit) (5.3.1)\n",
      "Requirement already satisfied: tenacity<9,>=8.1.0 in c:\\users\\hp\\appdata\\roaming\\python\\python39\\site-packages (from streamlit) (8.2.3)\n",
      "Requirement already satisfied: pillow<11,>=7.1.0 in c:\\programdata\\anaconda3\\lib\\site-packages (from streamlit) (9.2.0)\n",
      "Requirement already satisfied: blinker<2,>=1.0.0 in c:\\users\\hp\\appdata\\roaming\\python\\python39\\site-packages (from streamlit) (1.6.3)\n",
      "Requirement already satisfied: pyarrow>=6.0 in c:\\users\\hp\\appdata\\roaming\\python\\python39\\site-packages (from streamlit) (13.0.0)\n",
      "Requirement already satisfied: numpy<2,>=1.19.3 in c:\\programdata\\anaconda3\\lib\\site-packages (from streamlit) (1.21.5)\n",
      "Requirement already satisfied: packaging<24,>=16.8 in c:\\programdata\\anaconda3\\lib\\site-packages (from streamlit) (21.3)\n",
      "Requirement already satisfied: python-dateutil<3,>=2.7.3 in c:\\programdata\\anaconda3\\lib\\site-packages (from streamlit) (2.8.2)\n",
      "Requirement already satisfied: protobuf<5,>=3.20 in c:\\users\\hp\\appdata\\roaming\\python\\python39\\site-packages (from streamlit) (4.24.4)\n",
      "Requirement already satisfied: importlib-metadata<7,>=1.4 in c:\\programdata\\anaconda3\\lib\\site-packages (from streamlit) (4.11.3)\n",
      "Requirement already satisfied: validators<1,>=0.2 in c:\\users\\hp\\appdata\\roaming\\python\\python39\\site-packages (from streamlit) (0.22.0)\n",
      "Requirement already satisfied: requests<3,>=2.27 in c:\\programdata\\anaconda3\\lib\\site-packages (from streamlit) (2.28.1)\n",
      "Requirement already satisfied: pydeck<1,>=0.8.0b4 in c:\\users\\hp\\appdata\\roaming\\python\\python39\\site-packages (from streamlit) (0.8.1b0)\n",
      "Requirement already satisfied: pandas<3,>=1.3.0 in c:\\programdata\\anaconda3\\lib\\site-packages (from streamlit) (1.4.4)\n",
      "Requirement already satisfied: rich<14,>=10.14.0 in c:\\users\\hp\\appdata\\roaming\\python\\python39\\site-packages (from streamlit) (13.6.0)\n",
      "Requirement already satisfied: altair<6,>=4.0 in c:\\users\\hp\\appdata\\roaming\\python\\python39\\site-packages (from streamlit) (5.1.2)\n",
      "Requirement already satisfied: jsonschema>=3.0 in c:\\programdata\\anaconda3\\lib\\site-packages (from altair<6,>=4.0->streamlit) (4.16.0)\n",
      "Requirement already satisfied: jinja2 in c:\\programdata\\anaconda3\\lib\\site-packages (from altair<6,>=4.0->streamlit) (2.11.3)\n",
      "Requirement already satisfied: toolz in c:\\programdata\\anaconda3\\lib\\site-packages (from altair<6,>=4.0->streamlit) (0.11.2)\n",
      "Requirement already satisfied: colorama in c:\\programdata\\anaconda3\\lib\\site-packages (from click<9,>=7.0->streamlit) (0.4.5)\n",
      "Requirement already satisfied: gitdb<5,>=4.0.1 in c:\\users\\hp\\appdata\\roaming\\python\\python39\\site-packages (from gitpython!=3.1.19,<4,>=3.0.7->streamlit) (4.0.11)\n",
      "Requirement already satisfied: zipp>=0.5 in c:\\programdata\\anaconda3\\lib\\site-packages (from importlib-metadata<7,>=1.4->streamlit) (3.8.0)\n",
      "Requirement already satisfied: pyparsing!=3.0.5,>=2.0.2 in c:\\programdata\\anaconda3\\lib\\site-packages (from packaging<24,>=16.8->streamlit) (3.0.9)\n",
      "Requirement already satisfied: pytz>=2020.1 in c:\\programdata\\anaconda3\\lib\\site-packages (from pandas<3,>=1.3.0->streamlit) (2022.1)\n",
      "Requirement already satisfied: six>=1.5 in c:\\programdata\\anaconda3\\lib\\site-packages (from python-dateutil<3,>=2.7.3->streamlit) (1.16.0)\n",
      "Requirement already satisfied: certifi>=2017.4.17 in c:\\programdata\\anaconda3\\lib\\site-packages (from requests<3,>=2.27->streamlit) (2022.9.14)\n",
      "Requirement already satisfied: idna<4,>=2.5 in c:\\programdata\\anaconda3\\lib\\site-packages (from requests<3,>=2.27->streamlit) (3.3)\n",
      "Requirement already satisfied: charset-normalizer<3,>=2 in c:\\programdata\\anaconda3\\lib\\site-packages (from requests<3,>=2.27->streamlit) (2.0.4)\n",
      "Requirement already satisfied: urllib3<1.27,>=1.21.1 in c:\\programdata\\anaconda3\\lib\\site-packages (from requests<3,>=2.27->streamlit) (1.26.11)\n",
      "Requirement already satisfied: markdown-it-py>=2.2.0 in c:\\users\\hp\\appdata\\roaming\\python\\python39\\site-packages (from rich<14,>=10.14.0->streamlit) (3.0.0)\n",
      "Requirement already satisfied: pygments<3.0.0,>=2.13.0 in c:\\users\\hp\\appdata\\roaming\\python\\python39\\site-packages (from rich<14,>=10.14.0->streamlit) (2.16.1)\n",
      "Requirement already satisfied: tzdata in c:\\users\\hp\\appdata\\roaming\\python\\python39\\site-packages (from tzlocal<6,>=1.1->streamlit) (2023.3)\n",
      "Requirement already satisfied: smmap<6,>=3.0.1 in c:\\users\\hp\\appdata\\roaming\\python\\python39\\site-packages (from gitdb<5,>=4.0.1->gitpython!=3.1.19,<4,>=3.0.7->streamlit) (5.0.1)\n",
      "Requirement already satisfied: MarkupSafe>=0.23 in c:\\programdata\\anaconda3\\lib\\site-packages (from jinja2->altair<6,>=4.0->streamlit) (2.0.1)\n",
      "Requirement already satisfied: attrs>=17.4.0 in c:\\programdata\\anaconda3\\lib\\site-packages (from jsonschema>=3.0->altair<6,>=4.0->streamlit) (21.4.0)\n",
      "Requirement already satisfied: pyrsistent!=0.17.0,!=0.17.1,!=0.17.2,>=0.14.0 in c:\\programdata\\anaconda3\\lib\\site-packages (from jsonschema>=3.0->altair<6,>=4.0->streamlit) (0.18.0)\n",
      "Requirement already satisfied: mdurl~=0.1 in c:\\users\\hp\\appdata\\roaming\\python\\python39\\site-packages (from markdown-it-py>=2.2.0->rich<14,>=10.14.0->streamlit) (0.1.2)\n"
     ]
    }
   ],
   "source": [
    "pip install streamlit"
   ]
  },
  {
   "cell_type": "code",
   "execution_count": 1,
   "id": "b64b33ce",
   "metadata": {},
   "outputs": [],
   "source": [
    "# Core Pkg\n",
    "import streamlit as st \n",
    "import streamlit.components.v1 as stc"
   ]
  },
  {
   "cell_type": "code",
   "execution_count": 2,
   "id": "4d5585aa",
   "metadata": {},
   "outputs": [],
   "source": [
    "# Load EDA\n",
    "import pandas as pd \n",
    "from sklearn.feature_extraction.text import CountVectorizer\n",
    "from sklearn.metrics.pairwise import cosine_similarity,linear_kernel"
   ]
  },
  {
   "cell_type": "code",
   "execution_count": 3,
   "id": "01ca8d16",
   "metadata": {},
   "outputs": [],
   "source": [
    "# Load Our Dataset\n",
    "def load_data(data):\n",
    "    df = pd.read_csv(data)\n",
    "    return df "
   ]
  },
  {
   "cell_type": "code",
   "execution_count": 4,
   "id": "0d85ff60",
   "metadata": {},
   "outputs": [],
   "source": [
    "# Fxn\n",
    "# Vectorize + Cosine Similarity Matrix\n",
    "\n",
    "def vectorize_text_to_cosine_mat(data):\n",
    "    count_vect = CountVectorizer()\n",
    "    cv_mat = count_vect.fit_transform(data)\n",
    "    # Get the cosine\n",
    "    cosine_sim_mat = cosine_similarity(cv_mat)\n",
    "    return cosine_sim_mat"
   ]
  },
  {
   "cell_type": "code",
   "execution_count": 5,
   "id": "be9c87ea",
   "metadata": {},
   "outputs": [
    {
     "name": "stderr",
     "output_type": "stream",
     "text": [
      "2023-10-21 18:10:51.446 WARNING streamlit.runtime.caching.cache_data_api: No runtime found, using MemoryCacheStorageManager\n"
     ]
    }
   ],
   "source": [
    "# Recommendation Sys\n",
    "@st.cache_data\n",
    "def get_recommendation(title,cosine_sim_mat,df,num_of_rec=10):\n",
    "    # indices of the course\n",
    "    course_indices = pd.Series(df.index,index=df['course_title']).drop_duplicates()\n",
    "    # Index of course\n",
    "    idx = course_indices[title]\n",
    "\n",
    "    # Look into the cosine matr for that index\n",
    "    sim_scores =list(enumerate(cosine_sim_mat[idx]))\n",
    "    sim_scores = sorted(sim_scores,key=lambda x: x[1],reverse=True)\n",
    "    selected_course_indices = [i[0] for i in sim_scores[1:]]\n",
    "    selected_course_scores = [i[0] for i in sim_scores[1:]]\n",
    "\n",
    "    # Get the dataframe & title\n",
    "    result_df = df.iloc[selected_course_indices]\n",
    "    result_df['similarity_score'] = selected_course_scores\n",
    "    final_recommended_courses = result_df[['course_title','similarity_score','url','price','num_subscribers']]\n",
    "    return final_recommended_courses.head(num_of_rec)"
   ]
  },
  {
   "cell_type": "code",
   "execution_count": 6,
   "id": "591fa133",
   "metadata": {},
   "outputs": [],
   "source": [
    "RESULT_TEMP = \"\"\"\n",
    "<div style=\"width:90%;height:100%;margin:1px;padding:5px;position:relative;border-radius:5px;border-bottom-right-radius: 60px;\n",
    "box-shadow:0 0 15px 5px #ccc; background-color: #a8f0c6;\n",
    "  border-left: 5px solid #6c6c6c;\">\n",
    "<h4>{}</h4>\n",
    "<p style=\"color:blue;\"><span style=\"color:black;\">📈Score::</span>{}</p>\n",
    "<p style=\"color:blue;\"><span style=\"color:black;\">🔗</span><a href=\"{}\",target=\"_blank\">Link</a></p>\n",
    "<p style=\"color:blue;\"><span style=\"color:black;\">💲Price:</span>{}</p>\n",
    "<p style=\"color:blue;\"><span style=\"color:black;\">🧑‍🎓👨🏽‍🎓 Students:</span>{}</p>\n",
    "\n",
    "</div>\n",
    "\"\"\""
   ]
  },
  {
   "cell_type": "code",
   "execution_count": 7,
   "id": "2bafaeb8",
   "metadata": {},
   "outputs": [
    {
     "name": "stderr",
     "output_type": "stream",
     "text": [
      "2023-10-21 18:10:51.486 WARNING streamlit.runtime.caching.cache_data_api: No runtime found, using MemoryCacheStorageManager\n"
     ]
    }
   ],
   "source": [
    "# Search For Course \n",
    "@st.cache_data\n",
    "def search_term_if_not_found(term,df):\n",
    "    result_df = df[df['course_title'].str.contains(term)]\n",
    "    return result_df"
   ]
  },
  {
   "cell_type": "code",
   "execution_count": 8,
   "id": "d0937c02",
   "metadata": {},
   "outputs": [
    {
     "name": "stderr",
     "output_type": "stream",
     "text": [
      "2023-10-21 18:10:52.677 \n",
      "  \u001b[33m\u001b[1mWarning:\u001b[0m to view this Streamlit app on a browser, run it with the following\n",
      "  command:\n",
      "\n",
      "    streamlit run c:\\Users\\shiva\\AppData\\Local\\Programs\\Python\\Python310\\lib\\site-packages\\ipykernel_launcher.py [ARGUMENTS]\n"
     ]
    }
   ],
   "source": [
    "def main():\n",
    "\n",
    "    st.title(\"Course Recommendation App\")\n",
    "\n",
    "    menu = [\"Home\",\"Recommend\",\"About\"]\n",
    "    choice = st.sidebar.selectbox(\"Menu\",menu)\n",
    "\n",
    "    df = load_data(\"udemy_course_data.csv\")\n",
    "\n",
    "    if choice == \"Home\":\n",
    "        st.subheader(\"Home\")\n",
    "        st.dataframe(df.head(10))\n",
    "\n",
    "\n",
    "    elif choice == \"Recommend\":\n",
    "        st.subheader(\"Recommend Courses\")\n",
    "        cosine_sim_mat = vectorize_text_to_cosine_mat(df['course_title'])\n",
    "        search_term = st.text_input(\"Search\")\n",
    "        num_of_rec = st.sidebar.number_input(\"Number\",4,30,7)\n",
    "        if st.button(\"Recommend\"):\n",
    "            if search_term is not None:\n",
    "                try:\n",
    "                    results = get_recommendation(search_term,cosine_sim_mat,df,num_of_rec)\n",
    "                    with st.beta_expander(\"Results as JSON\"):\n",
    "                        results_json = results.to_dict('index')\n",
    "                        st.write(results_json)\n",
    "\n",
    "                    for row in results.iterrows():\n",
    "                        rec_title = row[1][0]\n",
    "                        rec_score = row[1][1]\n",
    "                        rec_url = row[1][2]\n",
    "                        rec_price = row[1][3]\n",
    "                        rec_num_sub = row[1][4]\n",
    "\n",
    "                        # st.write(\"Title\",rec_title,)\n",
    "                        stc.html(RESULT_TEMP.format(rec_title,rec_score,rec_url,rec_url,rec_num_sub),height=350)\n",
    "                except:\n",
    "                    results= \"Not Found\"\n",
    "                    st.warning(results)\n",
    "                    st.info(\"Suggested Options include\")\n",
    "                    result_df = search_term_if_not_found(search_term,df)\n",
    "                    st.dataframe(result_df)\n",
    "    else:\n",
    "        st.subheader(\"About\")\n",
    "        st.text(\"Built with Streamlit & Pandas\")\n",
    "\n",
    "\n",
    "if __name__ == '__main__':\n",
    "    main()"
   ]
  },
  {
   "cell_type": "code",
   "execution_count": null,
   "id": "e6422d38",
   "metadata": {},
   "outputs": [],
   "source": []
  }
 ],
 "metadata": {
  "kernelspec": {
   "display_name": "Python 3 (ipykernel)",
   "language": "python",
   "name": "python3"
  },
  "language_info": {
   "codemirror_mode": {
    "name": "ipython",
    "version": 3
   },
   "file_extension": ".py",
   "mimetype": "text/x-python",
   "name": "python",
   "nbconvert_exporter": "python",
   "pygments_lexer": "ipython3",
   "version": "3.10.6"
  }
 },
 "nbformat": 4,
 "nbformat_minor": 5
}
